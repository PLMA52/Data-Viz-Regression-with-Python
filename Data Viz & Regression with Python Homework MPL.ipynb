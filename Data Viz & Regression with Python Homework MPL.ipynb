{
 "cells": [
  {
   "cell_type": "code",
   "execution_count": 9,
   "metadata": {},
   "outputs": [],
   "source": [
    "import pandas as pd\n",
    "from matplotlib import pyplot as plt\n",
    "import seaborn as sns\n",
    "\n",
    "%matplotlib inline"
   ]
  },
  {
   "cell_type": "code",
   "execution_count": 22,
   "metadata": {},
   "outputs": [
    {
     "data": {
      "text/html": [
       "<div>\n",
       "<style scoped>\n",
       "    .dataframe tbody tr th:only-of-type {\n",
       "        vertical-align: middle;\n",
       "    }\n",
       "\n",
       "    .dataframe tbody tr th {\n",
       "        vertical-align: top;\n",
       "    }\n",
       "\n",
       "    .dataframe thead th {\n",
       "        text-align: right;\n",
       "    }\n",
       "</style>\n",
       "<table border=\"1\" class=\"dataframe\">\n",
       "  <thead>\n",
       "    <tr style=\"text-align: right;\">\n",
       "      <th></th>\n",
       "      <th>BOROUGH</th>\n",
       "      <th>NEIGHBORHOOD</th>\n",
       "      <th>BUILDING CLASS CATEGORY</th>\n",
       "      <th>TAX CLASS AT PRESENT</th>\n",
       "      <th>BLOCK</th>\n",
       "      <th>LOT</th>\n",
       "      <th>EASE-MENT</th>\n",
       "      <th>BUILDING CLASS AT PRESENT</th>\n",
       "      <th>ADDRESS</th>\n",
       "      <th>APARTMENT NUMBER</th>\n",
       "      <th>...</th>\n",
       "      <th>RESIDENTIAL_UNITS</th>\n",
       "      <th>COMMERCIAL_UNITS</th>\n",
       "      <th>TOTAL_UNITS</th>\n",
       "      <th>LAND_SQUARE_FEET</th>\n",
       "      <th>GROSS_SQUARE_FEET</th>\n",
       "      <th>YEAR_BUILT</th>\n",
       "      <th>TAX_CLASS</th>\n",
       "      <th>BUILDING_CLASS</th>\n",
       "      <th>SALES</th>\n",
       "      <th>SALE_DATE</th>\n",
       "    </tr>\n",
       "  </thead>\n",
       "  <tbody>\n",
       "    <tr>\n",
       "      <th>0</th>\n",
       "      <td>1</td>\n",
       "      <td>ALPHABET CITY</td>\n",
       "      <td>07 RENTALS - WALKUP APARTMENTS</td>\n",
       "      <td>2A</td>\n",
       "      <td>392</td>\n",
       "      <td>6</td>\n",
       "      <td></td>\n",
       "      <td>C2</td>\n",
       "      <td>153 AVENUE B</td>\n",
       "      <td></td>\n",
       "      <td>...</td>\n",
       "      <td>5</td>\n",
       "      <td>0</td>\n",
       "      <td>5</td>\n",
       "      <td>1633</td>\n",
       "      <td>6440</td>\n",
       "      <td>1900</td>\n",
       "      <td>2</td>\n",
       "      <td>C2</td>\n",
       "      <td>6625000</td>\n",
       "      <td>7/19/2017</td>\n",
       "    </tr>\n",
       "    <tr>\n",
       "      <th>1</th>\n",
       "      <td>1</td>\n",
       "      <td>ALPHABET CITY</td>\n",
       "      <td>07 RENTALS - WALKUP APARTMENTS</td>\n",
       "      <td>2</td>\n",
       "      <td>399</td>\n",
       "      <td>26</td>\n",
       "      <td></td>\n",
       "      <td>C7</td>\n",
       "      <td>234 EAST 4TH   STREET</td>\n",
       "      <td></td>\n",
       "      <td>...</td>\n",
       "      <td>28</td>\n",
       "      <td>3</td>\n",
       "      <td>31</td>\n",
       "      <td>4616</td>\n",
       "      <td>18690</td>\n",
       "      <td>1900</td>\n",
       "      <td>2</td>\n",
       "      <td>C7</td>\n",
       "      <td></td>\n",
       "      <td>12/14/2016</td>\n",
       "    </tr>\n",
       "  </tbody>\n",
       "</table>\n",
       "<p>2 rows × 21 columns</p>\n",
       "</div>"
      ],
      "text/plain": [
       "   BOROUGH   NEIGHBORHOOD                      BUILDING CLASS CATEGORY  \\\n",
       "0        1  ALPHABET CITY  07 RENTALS - WALKUP APARTMENTS                \n",
       "1        1  ALPHABET CITY  07 RENTALS - WALKUP APARTMENTS                \n",
       "\n",
       "  TAX CLASS AT PRESENT  BLOCK  LOT EASE-MENT BUILDING CLASS AT PRESENT  \\\n",
       "0                   2A    392    6                                  C2   \n",
       "1                    2    399   26                                  C7   \n",
       "\n",
       "                 ADDRESS APARTMENT NUMBER     ...      RESIDENTIAL_UNITS  \\\n",
       "0           153 AVENUE B                      ...                      5   \n",
       "1  234 EAST 4TH   STREET                      ...                     28   \n",
       "\n",
       "   COMMERCIAL_UNITS  TOTAL_UNITS  LAND_SQUARE_FEET GROSS_SQUARE_FEET  \\\n",
       "0                 0            5              1633              6440   \n",
       "1                 3           31              4616             18690   \n",
       "\n",
       "  YEAR_BUILT  TAX_CLASS  BUILDING_CLASS    SALES   SALE_DATE  \n",
       "0       1900          2              C2  6625000   7/19/2017  \n",
       "1       1900          2              C7           12/14/2016  \n",
       "\n",
       "[2 rows x 21 columns]"
      ]
     },
     "execution_count": 22,
     "metadata": {},
     "output_type": "execute_result"
    }
   ],
   "source": [
    "df = pd.read_csv(\"nyc-rolling-sales_cleaned.csv\")\n",
    "df.head(2)"
   ]
  },
  {
   "cell_type": "code",
   "execution_count": 23,
   "metadata": {},
   "outputs": [
    {
     "data": {
      "text/plain": [
       "BOROUGH                       int64\n",
       "NEIGHBORHOOD                 object\n",
       "BUILDING CLASS CATEGORY      object\n",
       "TAX CLASS AT PRESENT         object\n",
       "BLOCK                         int64\n",
       "LOT                           int64\n",
       "EASE-MENT                    object\n",
       "BUILDING CLASS AT PRESENT    object\n",
       "ADDRESS                      object\n",
       "APARTMENT NUMBER             object\n",
       "ZIP CODE                      int64\n",
       "RESIDENTIAL_UNITS             int64\n",
       "COMMERCIAL_UNITS              int64\n",
       "TOTAL_UNITS                   int64\n",
       "LAND_SQUARE_FEET             object\n",
       "GROSS_SQUARE_FEET            object\n",
       "YEAR_BUILT                    int64\n",
       "TAX_CLASS                     int64\n",
       "BUILDING_CLASS               object\n",
       "SALES                        object\n",
       "SALE_DATE                    object\n",
       "dtype: object"
      ]
     },
     "execution_count": 23,
     "metadata": {},
     "output_type": "execute_result"
    }
   ],
   "source": [
    "df.dtypes"
   ]
  },
  {
   "cell_type": "code",
   "execution_count": 20,
   "metadata": {},
   "outputs": [
    {
     "data": {
      "text/plain": [
       "<seaborn.axisgrid.FacetGrid at 0x2c9f604a940>"
      ]
     },
     "execution_count": 20,
     "metadata": {},
     "output_type": "execute_result"
    },
    {
     "data": {
      "image/png": "[encoded data removed]",
      "text/plain": [
       "<Figure size 360x360 with 1 Axes>"
      ]
     },
     "metadata": {},
     "output_type": "display_data"
    }
   ],
   "source": [
    "sns.lmplot(x='COMMERCIAL_UNITS', y='RESIDENTIAL_UNITS',data=df)"
   ]
  },
  {
   "cell_type": "code",
   "execution_count": 35,
   "metadata": {},
   "outputs": [
    {
     "data": {
      "text/plain": [
       "<seaborn.axisgrid.FacetGrid at 0x2c9f9324f28>"
      ]
     },
     "execution_count": 35,
     "metadata": {},
     "output_type": "execute_result"
    },
    {
     "data": {
      "image/png": "[encoded data removed]",
      "text/plain": [
       "<Figure size 419.875x360 with 1 Axes>"
      ]
     },
     "metadata": {},
     "output_type": "display_data"
    }
   ],
   "source": [
    "sns.lmplot(x='COMMERCIAL_UNITS',y='TOTAL_UNITS',hue='BOROUGH',data=df)"
   ]
  },
  {
   "cell_type": "code",
   "execution_count": 21,
   "metadata": {},
   "outputs": [
    {
     "data": {
      "text/plain": [
       "<matplotlib.axes._subplots.AxesSubplot at 0x2c9f6425cc0>"
      ]
     },
     "execution_count": 21,
     "metadata": {},
     "output_type": "execute_result"
    },
    {
     "data": {
      "image/png": "[encoded data removed]",
      "text/plain": [
       "<Figure size 432x288 with 1 Axes>"
      ]
     },
     "metadata": {},
     "output_type": "display_data"
    }
   ],
   "source": [
    "sns.boxplot(x='BOROUGH',y='COMMERCIAL_UNITS',data=df)"
   ]
  },
  {
   "cell_type": "code",
   "execution_count": 31,
   "metadata": {},
   "outputs": [
    {
     "data": {
      "text/plain": [
       "<matplotlib.axes._subplots.AxesSubplot at 0x2c9f9d278d0>"
      ]
     },
     "execution_count": 31,
     "metadata": {},
     "output_type": "execute_result"
    },
    {
     "data": {
      "image/png": "[encoded data removed]",
      "text/plain": [
       "<Figure size 432x288 with 1 Axes>"
      ]
     },
     "metadata": {},
     "output_type": "display_data"
    }
   ],
   "source": [
    "sns.barplot(x='BOROUGH',y='RESIDENTIAL_UNITS',data=df)"
   ]
  },
  {
   "cell_type": "code",
   "execution_count": 32,
   "metadata": {},
   "outputs": [
    {
     "data": {
      "text/html": [
       "<div>\n",
       "<style scoped>\n",
       "    .dataframe tbody tr th:only-of-type {\n",
       "        vertical-align: middle;\n",
       "    }\n",
       "\n",
       "    .dataframe tbody tr th {\n",
       "        vertical-align: top;\n",
       "    }\n",
       "\n",
       "    .dataframe thead th {\n",
       "        text-align: right;\n",
       "    }\n",
       "</style>\n",
       "<table border=\"1\" class=\"dataframe\">\n",
       "  <thead>\n",
       "    <tr style=\"text-align: right;\">\n",
       "      <th></th>\n",
       "      <th>BOROUGH</th>\n",
       "      <th>BLOCK</th>\n",
       "      <th>LOT</th>\n",
       "      <th>ZIP CODE</th>\n",
       "      <th>RESIDENTIAL_UNITS</th>\n",
       "      <th>COMMERCIAL_UNITS</th>\n",
       "      <th>TOTAL_UNITS</th>\n",
       "      <th>YEAR_BUILT</th>\n",
       "      <th>TAX_CLASS</th>\n",
       "    </tr>\n",
       "  </thead>\n",
       "  <tbody>\n",
       "    <tr>\n",
       "      <th>BOROUGH</th>\n",
       "      <td>1.000000</td>\n",
       "      <td>0.417001</td>\n",
       "      <td>-0.277848</td>\n",
       "      <td>0.256564</td>\n",
       "      <td>-0.023229</td>\n",
       "      <td>-0.005503</td>\n",
       "      <td>-0.023346</td>\n",
       "      <td>0.108303</td>\n",
       "      <td>-0.315163</td>\n",
       "    </tr>\n",
       "    <tr>\n",
       "      <th>BLOCK</th>\n",
       "      <td>0.417001</td>\n",
       "      <td>1.000000</td>\n",
       "      <td>-0.229118</td>\n",
       "      <td>0.234063</td>\n",
       "      <td>-0.015628</td>\n",
       "      <td>-0.003517</td>\n",
       "      <td>-0.015888</td>\n",
       "      <td>0.071262</td>\n",
       "      <td>-0.287300</td>\n",
       "    </tr>\n",
       "    <tr>\n",
       "      <th>LOT</th>\n",
       "      <td>-0.277848</td>\n",
       "      <td>-0.229118</td>\n",
       "      <td>1.000000</td>\n",
       "      <td>-0.145802</td>\n",
       "      <td>-0.034303</td>\n",
       "      <td>-0.010953</td>\n",
       "      <td>-0.033169</td>\n",
       "      <td>-0.289463</td>\n",
       "      <td>0.296680</td>\n",
       "    </tr>\n",
       "    <tr>\n",
       "      <th>ZIP CODE</th>\n",
       "      <td>0.256564</td>\n",
       "      <td>0.234063</td>\n",
       "      <td>-0.145802</td>\n",
       "      <td>1.000000</td>\n",
       "      <td>0.005578</td>\n",
       "      <td>0.000726</td>\n",
       "      <td>0.005415</td>\n",
       "      <td>0.330708</td>\n",
       "      <td>-0.142915</td>\n",
       "    </tr>\n",
       "    <tr>\n",
       "      <th>RESIDENTIAL_UNITS</th>\n",
       "      <td>-0.023229</td>\n",
       "      <td>-0.015628</td>\n",
       "      <td>-0.034303</td>\n",
       "      <td>0.005578</td>\n",
       "      <td>1.000000</td>\n",
       "      <td>0.015653</td>\n",
       "      <td>0.888309</td>\n",
       "      <td>0.025380</td>\n",
       "      <td>-0.001074</td>\n",
       "    </tr>\n",
       "    <tr>\n",
       "      <th>COMMERCIAL_UNITS</th>\n",
       "      <td>-0.005503</td>\n",
       "      <td>-0.003517</td>\n",
       "      <td>-0.010953</td>\n",
       "      <td>0.000726</td>\n",
       "      <td>0.015653</td>\n",
       "      <td>1.000000</td>\n",
       "      <td>0.472998</td>\n",
       "      <td>0.006428</td>\n",
       "      <td>0.049586</td>\n",
       "    </tr>\n",
       "    <tr>\n",
       "      <th>TOTAL_UNITS</th>\n",
       "      <td>-0.023346</td>\n",
       "      <td>-0.015888</td>\n",
       "      <td>-0.033169</td>\n",
       "      <td>0.005415</td>\n",
       "      <td>0.888309</td>\n",
       "      <td>0.472998</td>\n",
       "      <td>1.000000</td>\n",
       "      <td>0.024568</td>\n",
       "      <td>0.026429</td>\n",
       "    </tr>\n",
       "    <tr>\n",
       "      <th>YEAR_BUILT</th>\n",
       "      <td>0.108303</td>\n",
       "      <td>0.071262</td>\n",
       "      <td>-0.289463</td>\n",
       "      <td>0.330708</td>\n",
       "      <td>0.025380</td>\n",
       "      <td>0.006428</td>\n",
       "      <td>0.024568</td>\n",
       "      <td>1.000000</td>\n",
       "      <td>-0.187609</td>\n",
       "    </tr>\n",
       "    <tr>\n",
       "      <th>TAX_CLASS</th>\n",
       "      <td>-0.315163</td>\n",
       "      <td>-0.287300</td>\n",
       "      <td>0.296680</td>\n",
       "      <td>-0.142915</td>\n",
       "      <td>-0.001074</td>\n",
       "      <td>0.049586</td>\n",
       "      <td>0.026429</td>\n",
       "      <td>-0.187609</td>\n",
       "      <td>1.000000</td>\n",
       "    </tr>\n",
       "  </tbody>\n",
       "</table>\n",
       "</div>"
      ],
      "text/plain": [
       "                    BOROUGH     BLOCK       LOT  ZIP CODE  RESIDENTIAL_UNITS  \\\n",
       "BOROUGH            1.000000  0.417001 -0.277848  0.256564          -0.023229   \n",
       "BLOCK              0.417001  1.000000 -0.229118  0.234063          -0.015628   \n",
       "LOT               -0.277848 -0.229118  1.000000 -0.145802          -0.034303   \n",
       "ZIP CODE           0.256564  0.234063 -0.145802  1.000000           0.005578   \n",
       "RESIDENTIAL_UNITS -0.023229 -0.015628 -0.034303  0.005578           1.000000   \n",
       "COMMERCIAL_UNITS  -0.005503 -0.003517 -0.010953  0.000726           0.015653   \n",
       "TOTAL_UNITS       -0.023346 -0.015888 -0.033169  0.005415           0.888309   \n",
       "YEAR_BUILT         0.108303  0.071262 -0.289463  0.330708           0.025380   \n",
       "TAX_CLASS         -0.315163 -0.287300  0.296680 -0.142915          -0.001074   \n",
       "\n",
       "                   COMMERCIAL_UNITS  TOTAL_UNITS  YEAR_BUILT  TAX_CLASS  \n",
       "BOROUGH                   -0.005503    -0.023346    0.108303  -0.315163  \n",
       "BLOCK                     -0.003517    -0.015888    0.071262  -0.287300  \n",
       "LOT                       -0.010953    -0.033169   -0.289463   0.296680  \n",
       "ZIP CODE                   0.000726     0.005415    0.330708  -0.142915  \n",
       "RESIDENTIAL_UNITS          0.015653     0.888309    0.025380  -0.001074  \n",
       "COMMERCIAL_UNITS           1.000000     0.472998    0.006428   0.049586  \n",
       "TOTAL_UNITS                0.472998     1.000000    0.024568   0.026429  \n",
       "YEAR_BUILT                 0.006428     0.024568    1.000000  -0.187609  \n",
       "TAX_CLASS                  0.049586     0.026429   -0.187609   1.000000  "
      ]
     },
     "execution_count": 32,
     "metadata": {},
     "output_type": "execute_result"
    }
   ],
   "source": [
    "df.corr()"
   ]
  },
  {
   "cell_type": "code",
   "execution_count": 39,
   "metadata": {},
   "outputs": [
    {
     "data": {
      "text/html": [
       "<table class=\"simpletable\">\n",
       "<caption>OLS Regression Results</caption>\n",
       "<tr>\n",
       "  <th>Dep. Variable:</th>    <td>RESIDENTIAL_UNITS</td> <th>  R-squared:         </th>  <td>   0.792</td>  \n",
       "</tr>\n",
       "<tr>\n",
       "  <th>Model:</th>                   <td>OLS</td>        <th>  Adj. R-squared:    </th>  <td>   0.792</td>  \n",
       "</tr>\n",
       "<tr>\n",
       "  <th>Method:</th>             <td>Least Squares</td>   <th>  F-statistic:       </th>  <td>1.611e+05</td> \n",
       "</tr>\n",
       "<tr>\n",
       "  <th>Date:</th>             <td>Thu, 07 Mar 2019</td>  <th>  Prob (F-statistic):</th>   <td>  0.00</td>   \n",
       "</tr>\n",
       "<tr>\n",
       "  <th>Time:</th>                 <td>12:06:02</td>      <th>  Log-Likelihood:    </th> <td>-2.9232e+05</td>\n",
       "</tr>\n",
       "<tr>\n",
       "  <th>No. Observations:</th>      <td> 84548</td>       <th>  AIC:               </th>  <td>5.846e+05</td> \n",
       "</tr>\n",
       "<tr>\n",
       "  <th>Df Residuals:</th>          <td> 84546</td>       <th>  BIC:               </th>  <td>5.847e+05</td> \n",
       "</tr>\n",
       "<tr>\n",
       "  <th>Df Model:</th>              <td>     2</td>       <th>                     </th>      <td> </td>     \n",
       "</tr>\n",
       "<tr>\n",
       "  <th>Covariance Type:</th>      <td>nonrobust</td>     <th>                     </th>      <td> </td>     \n",
       "</tr>\n",
       "</table>\n",
       "<table class=\"simpletable\">\n",
       "<tr>\n",
       "       <td></td>          <th>coef</th>     <th>std err</th>      <th>t</th>      <th>P>|t|</th>  <th>[0.025</th>    <th>0.975]</th>  \n",
       "</tr>\n",
       "<tr>\n",
       "  <th>TOTAL_UNITS</th> <td>    0.7828</td> <td>    0.001</td> <td>  562.254</td> <td> 0.000</td> <td>    0.780</td> <td>    0.786</td>\n",
       "</tr>\n",
       "<tr>\n",
       "  <th>YEAR_BUILT</th>  <td>    0.0001</td> <td> 1.42e-05</td> <td>   10.168</td> <td> 0.000</td> <td>    0.000</td> <td>    0.000</td>\n",
       "</tr>\n",
       "</table>\n",
       "<table class=\"simpletable\">\n",
       "<tr>\n",
       "  <th>Omnibus:</th>       <td>376454.703</td> <th>  Durbin-Watson:     </th>     <td>   1.692</td>     \n",
       "</tr>\n",
       "<tr>\n",
       "  <th>Prob(Omnibus):</th>   <td> 0.000</td>   <th>  Jarque-Bera (JB):  </th> <td>4036010910082.409</td>\n",
       "</tr>\n",
       "<tr>\n",
       "  <th>Skew:</th>           <td>-144.601</td>  <th>  Prob(JB):          </th>     <td>    0.00</td>     \n",
       "</tr>\n",
       "<tr>\n",
       "  <th>Kurtosis:</th>       <td>33849.539</td> <th>  Cond. No.          </th>     <td>    98.5</td>     \n",
       "</tr>\n",
       "</table><br/><br/>Warnings:<br/>[1] Standard Errors assume that the covariance matrix of the errors is correctly specified."
      ],
      "text/plain": [
       "<class 'statsmodels.iolib.summary.Summary'>\n",
       "\"\"\"\n",
       "                            OLS Regression Results                            \n",
       "==============================================================================\n",
       "Dep. Variable:      RESIDENTIAL_UNITS   R-squared:                       0.792\n",
       "Model:                            OLS   Adj. R-squared:                  0.792\n",
       "Method:                 Least Squares   F-statistic:                 1.611e+05\n",
       "Date:                Thu, 07 Mar 2019   Prob (F-statistic):               0.00\n",
       "Time:                        12:06:02   Log-Likelihood:            -2.9232e+05\n",
       "No. Observations:               84548   AIC:                         5.846e+05\n",
       "Df Residuals:                   84546   BIC:                         5.847e+05\n",
       "Df Model:                           2                                         \n",
       "Covariance Type:            nonrobust                                         \n",
       "===============================================================================\n",
       "                  coef    std err          t      P>|t|      [0.025      0.975]\n",
       "-------------------------------------------------------------------------------\n",
       "TOTAL_UNITS     0.7828      0.001    562.254      0.000       0.780       0.786\n",
       "YEAR_BUILT      0.0001   1.42e-05     10.168      0.000       0.000       0.000\n",
       "==============================================================================\n",
       "Omnibus:                   376454.703   Durbin-Watson:                   1.692\n",
       "Prob(Omnibus):                  0.000   Jarque-Bera (JB):    4036010910082.409\n",
       "Skew:                        -144.601   Prob(JB):                         0.00\n",
       "Kurtosis:                   33849.539   Cond. No.                         98.5\n",
       "==============================================================================\n",
       "\n",
       "Warnings:\n",
       "[1] Standard Errors assume that the covariance matrix of the errors is correctly specified.\n",
       "\"\"\""
      ]
     },
     "execution_count": 39,
     "metadata": {},
     "output_type": "execute_result"
    }
   ],
   "source": [
    "import statsmodels.formula.api as sm\n",
    "\n",
    "result = sm.ols(formula='RESIDENTIAL_UNITS ~ TOTAL_UNITS + YEAR_BUILT -1',data=df).fit()\n",
    "\n",
    "result.summary()"
   ]
  },
  {
   "cell_type": "code",
   "execution_count": 52,
   "metadata": {},
   "outputs": [
    {
     "data": {
      "text/html": [
       "<table class=\"simpletable\">\n",
       "<caption>OLS Regression Results</caption>\n",
       "<tr>\n",
       "  <th>Dep. Variable:</th>    <td>COMMERCIAL_UNITS</td> <th>  R-squared:         </th>  <td>   1.000</td> \n",
       "</tr>\n",
       "<tr>\n",
       "  <th>Model:</th>                   <td>OLS</td>       <th>  Adj. R-squared:    </th>  <td>   1.000</td> \n",
       "</tr>\n",
       "<tr>\n",
       "  <th>Method:</th>             <td>Least Squares</td>  <th>  F-statistic:       </th>  <td>9.740e+07</td>\n",
       "</tr>\n",
       "<tr>\n",
       "  <th>Date:</th>             <td>Thu, 07 Mar 2019</td> <th>  Prob (F-statistic):</th>   <td>  0.00</td>  \n",
       "</tr>\n",
       "<tr>\n",
       "  <th>Time:</th>                 <td>12:19:49</td>     <th>  Log-Likelihood:    </th>  <td>  24302.</td> \n",
       "</tr>\n",
       "<tr>\n",
       "  <th>No. Observations:</th>      <td> 84548</td>      <th>  AIC:               </th> <td>-4.860e+04</td>\n",
       "</tr>\n",
       "<tr>\n",
       "  <th>Df Residuals:</th>          <td> 84546</td>      <th>  BIC:               </th> <td>-4.858e+04</td>\n",
       "</tr>\n",
       "<tr>\n",
       "  <th>Df Model:</th>              <td>     2</td>      <th>                     </th>      <td> </td>    \n",
       "</tr>\n",
       "<tr>\n",
       "  <th>Covariance Type:</th>      <td>nonrobust</td>    <th>                     </th>      <td> </td>    \n",
       "</tr>\n",
       "</table>\n",
       "<table class=\"simpletable\">\n",
       "<tr>\n",
       "          <td></td>             <th>coef</th>     <th>std err</th>      <th>t</th>      <th>P>|t|</th>  <th>[0.025</th>    <th>0.975]</th>  \n",
       "</tr>\n",
       "<tr>\n",
       "  <th>RESIDENTIAL_UNITS</th> <td>   -0.9996</td> <td> 8.13e-05</td> <td>-1.23e+04</td> <td> 0.000</td> <td>   -1.000</td> <td>   -0.999</td>\n",
       "</tr>\n",
       "<tr>\n",
       "  <th>TOTAL_UNITS</th>       <td>    0.9996</td> <td> 7.16e-05</td> <td>  1.4e+04</td> <td> 0.000</td> <td>    0.999</td> <td>    1.000</td>\n",
       "</tr>\n",
       "</table>\n",
       "<table class=\"simpletable\">\n",
       "<tr>\n",
       "  <th>Omnibus:</th>       <td>68758.446</td> <th>  Durbin-Watson:     </th>   <td>   0.236</td>  \n",
       "</tr>\n",
       "<tr>\n",
       "  <th>Prob(Omnibus):</th>  <td> 0.000</td>   <th>  Jarque-Bera (JB):  </th> <td>49371186.008</td>\n",
       "</tr>\n",
       "<tr>\n",
       "  <th>Skew:</th>           <td>-2.732</td>   <th>  Prob(JB):          </th>   <td>    0.00</td>  \n",
       "</tr>\n",
       "<tr>\n",
       "  <th>Kurtosis:</th>       <td>121.257</td>  <th>  Cond. No.          </th>   <td>    4.18</td>  \n",
       "</tr>\n",
       "</table><br/><br/>Warnings:<br/>[1] Standard Errors assume that the covariance matrix of the errors is correctly specified."
      ],
      "text/plain": [
       "<class 'statsmodels.iolib.summary.Summary'>\n",
       "\"\"\"\n",
       "                            OLS Regression Results                            \n",
       "==============================================================================\n",
       "Dep. Variable:       COMMERCIAL_UNITS   R-squared:                       1.000\n",
       "Model:                            OLS   Adj. R-squared:                  1.000\n",
       "Method:                 Least Squares   F-statistic:                 9.740e+07\n",
       "Date:                Thu, 07 Mar 2019   Prob (F-statistic):               0.00\n",
       "Time:                        12:19:49   Log-Likelihood:                 24302.\n",
       "No. Observations:               84548   AIC:                        -4.860e+04\n",
       "Df Residuals:                   84546   BIC:                        -4.858e+04\n",
       "Df Model:                           2                                         \n",
       "Covariance Type:            nonrobust                                         \n",
       "=====================================================================================\n",
       "                        coef    std err          t      P>|t|      [0.025      0.975]\n",
       "-------------------------------------------------------------------------------------\n",
       "RESIDENTIAL_UNITS    -0.9996   8.13e-05  -1.23e+04      0.000      -1.000      -0.999\n",
       "TOTAL_UNITS           0.9996   7.16e-05    1.4e+04      0.000       0.999       1.000\n",
       "==============================================================================\n",
       "Omnibus:                    68758.446   Durbin-Watson:                   0.236\n",
       "Prob(Omnibus):                  0.000   Jarque-Bera (JB):         49371186.008\n",
       "Skew:                          -2.732   Prob(JB):                         0.00\n",
       "Kurtosis:                     121.257   Cond. No.                         4.18\n",
       "==============================================================================\n",
       "\n",
       "Warnings:\n",
       "[1] Standard Errors assume that the covariance matrix of the errors is correctly specified.\n",
       "\"\"\""
      ]
     },
     "execution_count": 52,
     "metadata": {},
     "output_type": "execute_result"
    }
   ],
   "source": [
    "import statsmodels.formula.api as sm\n",
    "\n",
    "result = sm.ols(formula='COMMERCIAL_UNITS ~  RESIDENTIAL_UNITS + TOTAL_UNITS -1',data=df).fit()\n",
    "\n",
    "result.summary()"
   ]
  },
  {
   "cell_type": "code",
   "execution_count": null,
   "metadata": {},
   "outputs": [],
   "source": []
  },
  {
   "cell_type": "code",
   "execution_count": null,
   "metadata": {},
   "outputs": [],
   "source": []
  },
  {
   "cell_type": "code",
   "execution_count": null,
   "metadata": {},
   "outputs": [],
   "source": []
  },
  {
   "cell_type": "code",
   "execution_count": null,
   "metadata": {},
   "outputs": [],
   "source": []
  },
  {
   "cell_type": "code",
   "execution_count": null,
   "metadata": {},
   "outputs": [],
   "source": []
  },
  {
   "cell_type": "code",
   "execution_count": null,
   "metadata": {},
   "outputs": [],
   "source": []
  },
  {
   "cell_type": "code",
   "execution_count": null,
   "metadata": {},
   "outputs": [],
   "source": []
  },
  {
   "cell_type": "code",
   "execution_count": null,
   "metadata": {},
   "outputs": [],
   "source": []
  },
  {
   "cell_type": "code",
   "execution_count": null,
   "metadata": {},
   "outputs": [],
   "source": []
  }
 ],
 "metadata": {
  "kernelspec": {
   "display_name": "Python 3",
   "language": "python",
   "name": "python3"
  },
  "language_info": {
   "codemirror_mode": {
    "name": "ipython",
    "version": 3
   },
   "file_extension": ".py",
   "mimetype": "text/x-python",
   "name": "python",
   "nbconvert_exporter": "python",
   "pygments_lexer": "ipython3",
   "version": "3.6.5"
  }
 },
 "nbformat": 4,
 "nbformat_minor": 2
}
